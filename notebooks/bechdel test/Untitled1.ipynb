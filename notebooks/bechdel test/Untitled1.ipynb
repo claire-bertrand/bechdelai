{
 "cells": [
  {
   "cell_type": "code",
   "execution_count": 1,
   "id": "0e23837b",
   "metadata": {},
   "outputs": [],
   "source": [
    "#https://datausa.io/api/data?drilldowns=Nation&measures=Population\n",
    "#Quel est l'état qui a le plus vu sa population croître dans les 10 dernières années\n",
    "\n",
    "import requests\n",
    "url='https://datausa.io/api/data?drilldowns=State&measures=Population&year=latest'"
   ]
  },
  {
   "cell_type": "code",
   "execution_count": 2,
   "id": "881e23bb",
   "metadata": {},
   "outputs": [
    {
     "data": {
      "text/plain": [
       "'https://datausa.io/api/data?drilldowns=State&measures=Population&year=latest'"
      ]
     },
     "execution_count": 2,
     "metadata": {},
     "output_type": "execute_result"
    }
   ],
   "source": [
    "url"
   ]
  },
  {
   "cell_type": "code",
   "execution_count": 3,
   "id": "78c28d0f",
   "metadata": {},
   "outputs": [],
   "source": [
    "r=requests.get(url)"
   ]
  },
  {
   "cell_type": "code",
   "execution_count": 4,
   "id": "5128893c",
   "metadata": {},
   "outputs": [
    {
     "data": {
      "text/plain": [
       "<Response [200]>"
      ]
     },
     "execution_count": 4,
     "metadata": {},
     "output_type": "execute_result"
    }
   ],
   "source": [
    "r"
   ]
  },
  {
   "cell_type": "code",
   "execution_count": 14,
   "id": "b4445e46",
   "metadata": {},
   "outputs": [],
   "source": [
    "data = r.json()['data']"
   ]
  },
  {
   "cell_type": "code",
   "execution_count": 17,
   "id": "dc42f621",
   "metadata": {},
   "outputs": [],
   "source": [
    "import pandas as pd\n"
   ]
  },
  {
   "cell_type": "code",
   "execution_count": 22,
   "id": "2b9be7cc",
   "metadata": {},
   "outputs": [
    {
     "name": "stdout",
     "output_type": "stream",
     "text": [
      "Alabama -> 4903185 \n",
      "Alaska -> 731545 \n",
      "Arizona -> 7278717 \n",
      "Arkansas -> 3017804 \n",
      "California -> 39512223 \n",
      "Colorado -> 5758736 \n",
      "Connecticut -> 3565287 \n",
      "Delaware -> 973764 \n",
      "District of Columbia -> 705749 \n",
      "Florida -> 21477737 \n",
      "Georgia -> 10617423 \n",
      "Hawaii -> 1415872 \n",
      "Idaho -> 1787065 \n",
      "Illinois -> 12671821 \n",
      "Indiana -> 6732219 \n",
      "Iowa -> 3155070 \n",
      "Kansas -> 2913314 \n",
      "Kentucky -> 4467673 \n",
      "Louisiana -> 4648794 \n",
      "Maine -> 1344212 \n",
      "Maryland -> 6045680 \n",
      "Massachusetts -> 6892503 \n",
      "Michigan -> 9986857 \n",
      "Minnesota -> 5639632 \n",
      "Mississippi -> 2976149 \n",
      "Missouri -> 6137428 \n",
      "Montana -> 1068778 \n",
      "Nebraska -> 1934408 \n",
      "Nevada -> 3080156 \n",
      "New Hampshire -> 1359711 \n",
      "New Jersey -> 8882190 \n",
      "New Mexico -> 2096829 \n",
      "New York -> 19453561 \n",
      "North Carolina -> 10488084 \n",
      "North Dakota -> 762062 \n",
      "Ohio -> 11689100 \n",
      "Oklahoma -> 3956971 \n",
      "Oregon -> 4217737 \n",
      "Pennsylvania -> 12801989 \n",
      "Rhode Island -> 1059361 \n",
      "South Carolina -> 5148714 \n",
      "South Dakota -> 884659 \n",
      "Tennessee -> 6829174 \n",
      "Texas -> 28995881 \n",
      "Utah -> 3205958 \n",
      "Vermont -> 623989 \n",
      "Virginia -> 8535519 \n",
      "Washington -> 7614893 \n",
      "West Virginia -> 1792147 \n",
      "Wisconsin -> 5822434 \n",
      "Wyoming -> 578759 \n",
      "Puerto Rico -> 3193694 \n"
     ]
    }
   ],
   "source": [
    "for state in data:\n",
    "    print(f\"{state['State']} -> {state['Population']} \")\n"
   ]
  },
  {
   "cell_type": "code",
   "execution_count": 23,
   "id": "7a442339",
   "metadata": {},
   "outputs": [],
   "source": [
    "#creating a list of tupples\n",
    "\n",
    "states_pops = [ (state[\"State\"], state[\"Population\"]) for state in data]"
   ]
  },
  {
   "cell_type": "code",
   "execution_count": 24,
   "id": "3526c0db",
   "metadata": {},
   "outputs": [
    {
     "data": {
      "text/plain": [
       "[('Alabama', 4903185),\n",
       " ('Alaska', 731545),\n",
       " ('Arizona', 7278717),\n",
       " ('Arkansas', 3017804),\n",
       " ('California', 39512223),\n",
       " ('Colorado', 5758736),\n",
       " ('Connecticut', 3565287),\n",
       " ('Delaware', 973764),\n",
       " ('District of Columbia', 705749),\n",
       " ('Florida', 21477737),\n",
       " ('Georgia', 10617423),\n",
       " ('Hawaii', 1415872),\n",
       " ('Idaho', 1787065),\n",
       " ('Illinois', 12671821),\n",
       " ('Indiana', 6732219),\n",
       " ('Iowa', 3155070),\n",
       " ('Kansas', 2913314),\n",
       " ('Kentucky', 4467673),\n",
       " ('Louisiana', 4648794),\n",
       " ('Maine', 1344212),\n",
       " ('Maryland', 6045680),\n",
       " ('Massachusetts', 6892503),\n",
       " ('Michigan', 9986857),\n",
       " ('Minnesota', 5639632),\n",
       " ('Mississippi', 2976149),\n",
       " ('Missouri', 6137428),\n",
       " ('Montana', 1068778),\n",
       " ('Nebraska', 1934408),\n",
       " ('Nevada', 3080156),\n",
       " ('New Hampshire', 1359711),\n",
       " ('New Jersey', 8882190),\n",
       " ('New Mexico', 2096829),\n",
       " ('New York', 19453561),\n",
       " ('North Carolina', 10488084),\n",
       " ('North Dakota', 762062),\n",
       " ('Ohio', 11689100),\n",
       " ('Oklahoma', 3956971),\n",
       " ('Oregon', 4217737),\n",
       " ('Pennsylvania', 12801989),\n",
       " ('Rhode Island', 1059361),\n",
       " ('South Carolina', 5148714),\n",
       " ('South Dakota', 884659),\n",
       " ('Tennessee', 6829174),\n",
       " ('Texas', 28995881),\n",
       " ('Utah', 3205958),\n",
       " ('Vermont', 623989),\n",
       " ('Virginia', 8535519),\n",
       " ('Washington', 7614893),\n",
       " ('West Virginia', 1792147),\n",
       " ('Wisconsin', 5822434),\n",
       " ('Wyoming', 578759),\n",
       " ('Puerto Rico', 3193694)]"
      ]
     },
     "execution_count": 24,
     "metadata": {},
     "output_type": "execute_result"
    }
   ],
   "source": [
    "states_pops"
   ]
  },
  {
   "cell_type": "code",
   "execution_count": 25,
   "id": "9c45d109",
   "metadata": {},
   "outputs": [],
   "source": [
    "#ordering by population\n",
    "states_pops.sort(key=lambda sp: sp[1])\n"
   ]
  },
  {
   "cell_type": "code",
   "execution_count": 26,
   "id": "1d3ac51b",
   "metadata": {},
   "outputs": [],
   "source": []
  },
  {
   "cell_type": "code",
   "execution_count": 27,
   "id": "2ae14498",
   "metadata": {},
   "outputs": [
    {
     "data": {
      "text/plain": [
       "[('Wyoming', 578759),\n",
       " ('Vermont', 623989),\n",
       " ('District of Columbia', 705749),\n",
       " ('Alaska', 731545),\n",
       " ('North Dakota', 762062),\n",
       " ('South Dakota', 884659),\n",
       " ('Delaware', 973764),\n",
       " ('Rhode Island', 1059361),\n",
       " ('Montana', 1068778),\n",
       " ('Maine', 1344212),\n",
       " ('New Hampshire', 1359711),\n",
       " ('Hawaii', 1415872),\n",
       " ('Idaho', 1787065),\n",
       " ('West Virginia', 1792147),\n",
       " ('Nebraska', 1934408),\n",
       " ('New Mexico', 2096829),\n",
       " ('Kansas', 2913314),\n",
       " ('Mississippi', 2976149),\n",
       " ('Arkansas', 3017804),\n",
       " ('Nevada', 3080156),\n",
       " ('Iowa', 3155070),\n",
       " ('Puerto Rico', 3193694),\n",
       " ('Utah', 3205958),\n",
       " ('Connecticut', 3565287),\n",
       " ('Oklahoma', 3956971),\n",
       " ('Oregon', 4217737),\n",
       " ('Kentucky', 4467673),\n",
       " ('Louisiana', 4648794),\n",
       " ('Alabama', 4903185),\n",
       " ('South Carolina', 5148714),\n",
       " ('Minnesota', 5639632),\n",
       " ('Colorado', 5758736),\n",
       " ('Wisconsin', 5822434),\n",
       " ('Maryland', 6045680),\n",
       " ('Missouri', 6137428),\n",
       " ('Indiana', 6732219),\n",
       " ('Tennessee', 6829174),\n",
       " ('Massachusetts', 6892503),\n",
       " ('Arizona', 7278717),\n",
       " ('Washington', 7614893),\n",
       " ('Virginia', 8535519),\n",
       " ('New Jersey', 8882190),\n",
       " ('Michigan', 9986857),\n",
       " ('North Carolina', 10488084),\n",
       " ('Georgia', 10617423),\n",
       " ('Ohio', 11689100),\n",
       " ('Illinois', 12671821),\n",
       " ('Pennsylvania', 12801989),\n",
       " ('New York', 19453561),\n",
       " ('Florida', 21477737),\n",
       " ('Texas', 28995881),\n",
       " ('California', 39512223)]"
      ]
     },
     "execution_count": 27,
     "metadata": {},
     "output_type": "execute_result"
    }
   ],
   "source": [
    "states_pops"
   ]
  },
  {
   "cell_type": "code",
   "execution_count": 28,
   "id": "8eab3920",
   "metadata": {},
   "outputs": [
    {
     "data": {
      "text/plain": [
       "[0, 1, 4, 9, 16, 25, 36, 49, 64, 81]"
      ]
     },
     "execution_count": 28,
     "metadata": {},
     "output_type": "execute_result"
    }
   ],
   "source": [
    "[i**2 for i in range(0,10)]"
   ]
  },
  {
   "cell_type": "code",
   "execution_count": 30,
   "id": "2042d3a8",
   "metadata": {},
   "outputs": [
    {
     "data": {
      "text/plain": [
       "('California', 39512223)"
      ]
     },
     "execution_count": 30,
     "metadata": {},
     "output_type": "execute_result"
    }
   ],
   "source": [
    "states_pops[-1]"
   ]
  },
  {
   "cell_type": "code",
   "execution_count": null,
   "id": "39f5c6ae",
   "metadata": {},
   "outputs": [],
   "source": []
  }
 ],
 "metadata": {
  "kernelspec": {
   "display_name": "Python 3",
   "language": "python",
   "name": "python3"
  },
  "language_info": {
   "codemirror_mode": {
    "name": "ipython",
    "version": 3
   },
   "file_extension": ".py",
   "mimetype": "text/x-python",
   "name": "python",
   "nbconvert_exporter": "python",
   "pygments_lexer": "ipython3",
   "version": "3.8.8"
  }
 },
 "nbformat": 4,
 "nbformat_minor": 5
}
